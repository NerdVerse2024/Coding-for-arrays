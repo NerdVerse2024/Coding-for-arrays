{
  "nbformat": 4,
  "nbformat_minor": 0,
  "metadata": {
    "colab": {
      "provenance": [],
      "authorship_tag": "ABX9TyMDdYdDIMinpkqLh5pwmWMD",
      "include_colab_link": true
    },
    "kernelspec": {
      "name": "python3",
      "display_name": "Python 3"
    },
    "language_info": {
      "name": "python"
    }
  },
  "cells": [
    {
      "cell_type": "markdown",
      "metadata": {
        "id": "view-in-github",
        "colab_type": "text"
      },
      "source": [
        "<a href=\"https://colab.research.google.com/github/NerdVerse2024/Coding-for-arrays/blob/main/Array_Assessment.ipynb\" target=\"_parent\"><img src=\"https://colab.research.google.com/assets/colab-badge.svg\" alt=\"Open In Colab\"/></a>"
      ]
    },
    {
      "cell_type": "markdown",
      "source": [
        "**QUESTION 1**\n",
        "Given an array of integers citations where citations[i] is the number of citations a\n",
        "researcher received for their ith paper, return the researcher's h-index.\n",
        "According to the definition of h-index on Wikipedia: The h-index is defined as the\n",
        "maximum value of h such that the given researcher has published at least h papers that\n",
        "have each been cited at least h times."
      ],
      "metadata": {
        "id": "UhLFBb_EqDVU"
      }
    },
    {
      "cell_type": "code",
      "execution_count": 1,
      "metadata": {
        "id": "7yGNm3cQplfX"
      },
      "outputs": [],
      "source": [
        "def hIndex(citations):\n",
        "        citations.sort()\n",
        "        n, i = len(citations), 1\n",
        "        while i <= n:\n",
        "            if citations[n - i] < i:\n",
        "                break\n",
        "            i += 1\n",
        "        return i - 1"
      ]
    },
    {
      "cell_type": "markdown",
      "source": [
        "Example 1 for this problem:\n",
        "Let the list of citations by the researcher be  [0, 2, 6, 7, 4], so the hIndex for him/her would be....."
      ],
      "metadata": {
        "id": "z5kNN8k4qbYR"
      }
    },
    {
      "cell_type": "code",
      "source": [
        "citations = [0, 2, 6, 7, 4]\n",
        "result = hIndex(citations)\n",
        "print(\"The  researcher's h-index is \" + str(result))"
      ],
      "metadata": {
        "colab": {
          "base_uri": "https://localhost:8080/"
        },
        "id": "7Vvwlm3HqBn9",
        "outputId": "5921346b-45d9-4eb5-bceb-45ee1265ab4a"
      },
      "execution_count": 2,
      "outputs": [
        {
          "output_type": "stream",
          "name": "stdout",
          "text": [
            "The  researcher's h-index is 3\n"
          ]
        }
      ]
    },
    {
      "cell_type": "markdown",
      "source": [
        "Example 2: citation_list = [2, 4, 8, 10, 12, 9, 15]\n"
      ],
      "metadata": {
        "id": "ihtm6DBtq8Lq"
      }
    },
    {
      "cell_type": "code",
      "source": [
        "citation_list = [2, 4, 8, 10, 12, 9, 15]\n",
        "result = hIndex(citations)\n",
        "print(\"The  researcher's h-index is \" + str(result))"
      ],
      "metadata": {
        "colab": {
          "base_uri": "https://localhost:8080/"
        },
        "id": "-EmA8JbdrRHQ",
        "outputId": "c421459d-d4eb-408c-9305-d41d92aaad77"
      },
      "execution_count": 7,
      "outputs": [
        {
          "output_type": "stream",
          "name": "stdout",
          "text": [
            "The  researcher's h-index is 5\n"
          ]
        }
      ]
    },
    {
      "cell_type": "markdown",
      "source": [
        "**QUESTION 2**\n",
        "Trapping Rain water : Given n non-negative integers representing an elevation map\n",
        "where the width of each bar is 1, compute how much water it can trap after raining.\n",
        "https://photos.app.goo.gl/gkdvNyx7j8Wjmka59\n",
        "Example:\n",
        "Input: height = [0,1,0,2,1,0,1,3,2,1,2,1]\n",
        "Output: 6\n",
        "Explanation: The above elevation map (black section) is represented by array\n",
        "[0,1,0,2,1,0,1,3,2,1,2,1]. In this case, 6 units of rain water (blue section) are being\n",
        "trapped.\n"
      ],
      "metadata": {
        "id": "Iqu0KOWlruAu"
      }
    },
    {
      "cell_type": "code",
      "source": [
        "from typing import List\n",
        "class Solution:\n",
        "    def trap(self, height: List[int]) -> int:\n",
        "        max_height = max(height)\n",
        "        building_blocks_volume = sum(height)\n",
        "\n",
        "        left = 0\n",
        "        max_left = 0\n",
        "        while height[left] < max_height:\n",
        "            if height[left] > max_left:\n",
        "                max_left = height[left]\n",
        "\n",
        "            height[left] = max_left\n",
        "            left += 1\n",
        "\n",
        "        right = len(height) - 1\n",
        "        max_right = 0\n",
        "        while height[right] < max_height:\n",
        "            if height[right] > max_right:\n",
        "                max_right = height[right]\n",
        "\n",
        "            height[right] = max_right\n",
        "            right -= 1\n",
        "\n",
        "        rainwater_trapped = sum(height[0:left] + height[right + 1:]) + (right - left + 1) * max_height\n",
        "        return rainwater_trapped - building_blocks_volume"
      ],
      "metadata": {
        "id": "UAyTIVYHsSXy"
      },
      "execution_count": 9,
      "outputs": []
    },
    {
      "cell_type": "markdown",
      "source": [
        "Example 1 for problem 2:\n",
        "Height of blocks = [0, 1, 0, 2, 1, 0, 1, 3, 2, 1, 2, 1]"
      ],
      "metadata": {
        "id": "zqyy_XxLsqZu"
      }
    },
    {
      "cell_type": "code",
      "source": [
        "solution = Solution()\n",
        "height = [0, 1, 0, 2, 1, 0, 1, 3, 2, 1, 2, 1]\n",
        "result = solution.trap(height)\n",
        "print(\"Trapped water of rain is: %s units\" % result)"
      ],
      "metadata": {
        "colab": {
          "base_uri": "https://localhost:8080/"
        },
        "id": "B132ROGzs84g",
        "outputId": "f905dd31-0788-48e9-eb81-72c18b6106f1"
      },
      "execution_count": 10,
      "outputs": [
        {
          "output_type": "stream",
          "name": "stdout",
          "text": [
            "Trapped water of rain is: 6 units\n"
          ]
        }
      ]
    },
    {
      "cell_type": "markdown",
      "source": [
        "Example 2 of Problem 2: Height of blocks = [3, 0, 2, 1, 5, 2, 6, 8, 3, 1, 4]\n"
      ],
      "metadata": {
        "id": "Pu8SoYRVtCJx"
      }
    },
    {
      "cell_type": "code",
      "source": [
        "solution = Solution()\n",
        "height = [3, 0, 2, 1, 5, 2, 6, 8, 3, 1, 4]\n",
        "result = solution.trap(height)\n",
        "print(\"Trapped water of rain is: %s units\" % result)"
      ],
      "metadata": {
        "colab": {
          "base_uri": "https://localhost:8080/"
        },
        "id": "8JrjDSGbtPna",
        "outputId": "2e558f55-59a5-4ede-93b1-5628927281cf"
      },
      "execution_count": 11,
      "outputs": [
        {
          "output_type": "stream",
          "name": "stdout",
          "text": [
            "Trapped water of rain is: 13 units\n"
          ]
        }
      ]
    }
  ]
}